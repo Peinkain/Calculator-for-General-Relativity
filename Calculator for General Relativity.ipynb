{
 "cells": [
  {
   "cell_type": "markdown",
   "id": "38c576de",
   "metadata": {},
   "source": [
    "# <a id = 'content'></a> Calculator for Tensors in General Relativity | MATH0025\n",
    "\n",
    "Author: Bohdan Glisevic (20123476)\n",
    "\n",
    "In this Jupyter notebook, we have developed a code that can assist in the computation of tensors and other mathematical operators commonly used in the theory of general relativity. The calculations are accompanied by brief theoretical explanations, focused on the calculation of relevant formulas, and also provide some qualitative explanations. Simplified models with diagonal metrics are often used in general relativity, which leads to most tensors having trivial components. However, several identities can be used to find non-zero components, but it can be challenging to check one's work due to the complexity of index placement. This notebook was created with the purpose of allowing users to verify their results and practice their methods. While it may not be sufficient for examination purposes, it can serve as a useful tool for revision and the development of skills in the field. Ultimately, the process of calculations is more important than the final result, and this notebook can aid in the revision and further refinement of these skills.\n",
    "\n",
    "This notebook contains calcualtors for:\n",
    "- Metric tensor\n",
    "- Christoffel symbols\n",
    "- Riemann tensor\n",
    "- Ricci tensor\n",
    "- Ricci scalar\n",
    "- Einstein tensor\n",
    "- [Example (3-sphere) (GO TO THIS SECTION IF YOU JUST WANT TO USE YOUR METRIC TENSOR)](#Example)\n",
    "- Jacobian matrix\n",
    "\n",
    "## Libraries\n",
    "\n",
    "The SymPy library is the primary library used throughout the notebook. It is employed for symbolic equations where variables are defined using strings, rather than integer or float values. SymPy is an advantageous tool, as it includes many commonly used functions and can simplify equations. It shares similarities with Wolfram Mathematica, which we initially wanted to use, but since it requires a paid subscription, we opted for SymPy since students are generally more familiar with Python.\n",
    "\n",
    "We faced some problems with printing $\\LaTeX$ equations using SymPy, but fortunately, IPython offers tools for printing in markdown formatting. Finally, we have specifically called certain functions from SymPy individually to make the notebook more user-friendly. Although we initially planned to write the equations in $\\LaTeX$ script, we encountered some issues with Jupyter. Nonetheless, writing the equations should still be relatively straightforward."
   ]
  },
  {
   "cell_type": "markdown",
   "id": "b233f109",
   "metadata": {},
   "source": [
    "<div class=\"alert alert-danger\">\n",
    "    \n",
    "You might need to first install SymPy library. If so, uncomment the cell below. After the library is installed, don't forget to restart your kernel. "
   ]
  },
  {
   "cell_type": "code",
   "execution_count": 1,
   "id": "2a5c6fd5",
   "metadata": {},
   "outputs": [],
   "source": [
    "# pip install sympy                  # install sympy"
   ]
  },
  {
   "cell_type": "code",
   "execution_count": 2,
   "id": "17df6f3b",
   "metadata": {},
   "outputs": [],
   "source": [
    "import sympy as sp                           # symbolic equations in Python                \n",
    "from IPython.display import Markdown         # printing in markdown style\n",
    "from sympy import symbols, Matrix, diff, simplify, nsimplify, sin, cos, tan, cosh, sinh, sech, exp, init_printing, Function\n",
    "\n",
    "init_printing()"
   ]
  },
  {
   "cell_type": "markdown",
   "id": "fdd70f48",
   "metadata": {},
   "source": [
    "## Metric Tensor\n",
    "\n",
    "o use the calculator, we first need to specify certain properties of the space we will be working with. Our initial step is to define a metric tensor $g_{\\mu \\nu}$ that describes the space. To achieve this, we require a coordinate system $X^{i}$ and the equation of an infinitesimal line element $\\text{d}s$. To simplify our explanation, we will use a concrete example of a 2-sphere (a 2D surface of a 3D sphere). The coordinate system we will use is $X^i = { X^1, X^2 }$, where we could define $X^1 = \\theta$ and $X^2 = \\phi$. However, we will adhere to the $X^i$ notation as it is more general, and we may require a change of metric for different spaces. The line element for a 2-sphere is\n",
    "\n",
    "\\begin{align*}\n",
    "    \\text{d}s^2 &= r^2 \\text{d} \\theta ^{2} + r^2 \\sin^2 \\theta \\text{d} \\phi^{2} \\\\\n",
    "    \\text{d}s^2 &= r^2 \\left(\\text{d} X^{1} \\right)^{2} + r^2 \\sin^2 \\left( X^{1} \\right) \\left(\\text{d} X^{1} \\right)^{2}\n",
    "\\end{align*}\n",
    "\n",
    "By using the knowledge of coordinate system and the line element, we can find the metric tensor as\n",
    "\n",
    "\\begin{equation*}\n",
    "g_{\\mu \\nu} = \n",
    "\\begin{bmatrix}\n",
    "    r^2 & 0 \\\\\n",
    "    0   & r^2 \\sin^2 \\theta\n",
    "\\end{bmatrix}\n",
    "\\end{equation*}\n",
    "\n",
    "or in general form\n",
    "\n",
    "\\begin{equation*}\n",
    "g_{\\mu \\nu} = \n",
    "\\begin{bmatrix}\n",
    "    r^2 & 0 \\\\\n",
    "    0   & r^2 \\sin^2 \\left( X^1 \\right)\n",
    "\\end{bmatrix}\n",
    "\\end{equation*}\n",
    "\n",
    "Notice, that in our coordinate system, $r$ is just a constant. It is not part of the $X^i$. Finally, we can move on to the coding part. To make this notebook as clear as possible, we wil enumarate the steps.\n",
    "\n",
    "1. Define number `dim` of dimensions of the metric tensor. In case of 2-sphere, we have only 2 dimnesions as there are only two coordinates in the coordinate system.\n",
    "\n",
    "2. By defining `dim`, we have automatically obtained symbols for $X^i$, denoted simply as `X`. There may be additional symbols that need to be defined in the metric, such as $r$ in the case of a 2-sphere. Although this symbol is not a coordinate, it is necessary to define it so that SymPy can understand it. At times, it may be necessary to define more constant symbols, such as `R, r = symbols('R r')` in the case of a 2-torus. Define all the symbols you require. In certain cases, we may need to define a function of the coordinate, such as $A(r)$ in the Schwarzschild metric. In such cases, we use the `Function` function to define the associated symbol and specify the independent variable (coordinate). SymPy can then differentiate such a function in its general form."
   ]
  },
  {
   "cell_type": "code",
   "execution_count": 3,
   "id": "9f05ab0d",
   "metadata": {},
   "outputs": [],
   "source": [
    "## Define the dimensionality of the coordinate systems ##\n",
    "dim = 2\n",
    "\n",
    "## Define symbols ##\n",
    "X = symbols(' '.join([fr'X^{i+1}' for i in range(dim)]))          # coordinate system\n",
    "r = symbols('r')                                                  # symbols of constants in the metric tensor\n",
    "# F = Function('F')(X[1])                                         # symbols of functions (e.g. F(X^1))"
   ]
  },
  {
   "cell_type": "markdown",
   "id": "42d83629",
   "metadata": {},
   "source": [
    "3. We need to define the components of the metric tensor, which is one of the most challenging parts. Any coordinates used in the expression inside the metric tensor must be in agreement with the notation (see the notation subsection below). The inverse of the metric tensor is then calculated automatically.\n",
    "\n",
    "**Notation**\n",
    "\n",
    "Previously, we mentioned that we encountered some issues with using $\\LaTeX$ notation. Instead, we will use a notation that is similar to the standard NumPy notation for writing equations, as SymPy is very similar to NumPy in this regard. Let us consider the $g_{22}$ component of the metric tensor as an example, which is given by:\n",
    "\n",
    "$r^2 \\sin^2 \\left(X^1 \\right)$ = `r**2 * sin(X[0])**2`\n",
    "\n",
    "Note that in SymPy, we use `**` for exponentiation instead of `^`, which is used in many other programming languages. Additionally, the `sin()` function can be used directly since we have imported it from the SymPy library in the first code cell. However, if we had not imported it individually, we would need to use the prefix `sp` before calling the function, like this: `sp.sin()`.\n",
    "\n",
    "If we need to use other functions that are not imported individually, we can still use them by calling the function with the `sp.` prefix. For example, the square root function would be written as `sp.sqrt()`. See the example below for how to use the square root function:\n",
    "\n",
    "$r^2 \\sqrt{X^1}$ = `r**2 * sp.sqrt(X[0])`\n",
    "\n",
    "Note that while the first coordinate is denoted as $X^1$ in the $\\LaTeX$ equation, in SymPy notation, it is written as `X[0]`. This is because Python indexing starts at 0. Although the $\\LaTeX$ output of our printing functions will always use the notation where the first coordinate is written with superscript 1, the SymPy equations will need to be shifted by -1 instead."
   ]
  },
  {
   "cell_type": "code",
   "execution_count": 4,
   "id": "aeb67916",
   "metadata": {},
   "outputs": [],
   "source": [
    "## Metric & Inverse Metric Tensors ##\n",
    "g     = Matrix([[r**2, 0],                                          # metric tensor\n",
    "               [0,    r**2 * sin(X[0])**2]])        \n",
    "\n",
    "g_inv = g.inv()                                                     # inverse metric tensor"
   ]
  },
  {
   "cell_type": "markdown",
   "id": "5906a517",
   "metadata": {},
   "source": [
    "Let define a new function `print_Metric()` that prints components of the metric tensor individually. This is not as useful now, but for much larger tensors, it is more convinient to write components individually and see which ones are trivial. "
   ]
  },
  {
   "cell_type": "code",
   "execution_count": 5,
   "id": "f6be3810",
   "metadata": {},
   "outputs": [],
   "source": [
    "def print_Metric(simple = True):\n",
    "    '''\n",
    "    This function prints components of the metric tensor.\n",
    "    Inputs:\n",
    "        simple - this input is Boolean and can simplify the output to as compact form as possible\n",
    "    Outputs:\n",
    "        NONE\n",
    "    Assumptions:\n",
    "        - SymPy library was called\n",
    "        - Individual partof of SymPy were called: simplify, nsimplify\n",
    "        - IPython.display was called\n",
    "    '''\n",
    "    ## Front part of the LaTeX align string ##\n",
    "    string = ''\n",
    "    frontstring = '\\\\begin{align*} \\n'\n",
    "    string += frontstring\n",
    "    \n",
    "    ## Equations for tensor components ##\n",
    "    for mu in range(dim):\n",
    "        for nu in range(dim):\n",
    "            subscript   = str(int(str(mu+1) + str(nu+1)))\n",
    "            if simple == True:\n",
    "                string += fr'g' + r'_{' + f'{subscript}' + r'} =& \\:' + sp.latex(simplify(nsimplify(g[mu,nu]))) + '\\\\\\\\ \\n'\n",
    "            else:\n",
    "                string += fr'g' + r'_{' + f'{subscript}' + r'} =& \\:' + sp.latex(nsimplify(g[mu,nu])) + '\\\\\\\\ \\n'\n",
    "                \n",
    "    ## Back part of the LaTeX align string ##\n",
    "    backstring = '\\\\end{align*}'\n",
    "    string += backstring\n",
    "    \n",
    "    ## Display equations as LaTeX in markdown ##\n",
    "    display(Markdown(string))\n",
    "    return"
   ]
  },
  {
   "cell_type": "markdown",
   "id": "f8e73e36",
   "metadata": {},
   "source": [
    "In the cell below, you can run the `print_Metric()` function to see individual components of the metric tensor."
   ]
  },
  {
   "cell_type": "code",
   "execution_count": 6,
   "id": "7e9fffe2",
   "metadata": {},
   "outputs": [
    {
     "data": {
      "text/markdown": [
       "\\begin{align*} \n",
       "g_{11} =& \\:r^{2}\\\\ \n",
       "g_{12} =& \\:0\\\\ \n",
       "g_{21} =& \\:0\\\\ \n",
       "g_{22} =& \\:r^{2} \\sin^{2}{\\left(X^{1} \\right)}\\\\ \n",
       "\\end{align*}"
      ],
      "text/plain": [
       "<IPython.core.display.Markdown object>"
      ]
     },
     "metadata": {},
     "output_type": "display_data"
    }
   ],
   "source": [
    "print_Metric()"
   ]
  },
  {
   "cell_type": "markdown",
   "id": "dbe5e185",
   "metadata": {},
   "source": [
    "It is also useful to just print the whole metric tensor to check the validity of our process."
   ]
  },
  {
   "cell_type": "code",
   "execution_count": 7,
   "id": "77ef2625",
   "metadata": {},
   "outputs": [
    {
     "data": {
      "image/png": "[encoded data removed]",
      "text/latex": [
       "$\\displaystyle \\left[\\begin{matrix}r^{2} & 0\\\\0 & r^{2} \\sin^{2}{\\left(X^{1} \\right)}\\end{matrix}\\right]$"
      ],
      "text/plain": [
       "⎡ 2             ⎤\n",
       "⎢r        0     ⎥\n",
       "⎢               ⎥\n",
       "⎢     2    2    ⎥\n",
       "⎣0   r ⋅sin (X¹)⎦"
      ]
     },
     "execution_count": 7,
     "metadata": {},
     "output_type": "execute_result"
    }
   ],
   "source": [
    "g"
   ]
  },
  {
   "cell_type": "markdown",
   "id": "3f7a7683",
   "metadata": {},
   "source": [
    "Printing the inverse of the metric tensor can provide insight into the complexity of the metric. In the case of a diagonal metric, the non-zero components of the inverse are simply the inverses of the non-zero components of the metric tensor. However, for a more complicated metric, the inverse can also be more complex."
   ]
  },
  {
   "cell_type": "code",
   "execution_count": 8,
   "id": "684128c9",
   "metadata": {},
   "outputs": [
    {
     "data": {
      "image/png": "[encoded data removed]",
      "text/latex": [
       "$\\displaystyle \\left[\\begin{matrix}\\frac{1}{r^{2}} & 0\\\\0 & \\frac{1}{r^{2} \\sin^{2}{\\left(X^{1} \\right)}}\\end{matrix}\\right]$"
      ],
      "text/plain": [
       "⎡1              ⎤\n",
       "⎢──       0     ⎥\n",
       "⎢ 2             ⎥\n",
       "⎢r              ⎥\n",
       "⎢               ⎥\n",
       "⎢         1     ⎥\n",
       "⎢0   ───────────⎥\n",
       "⎢     2    2    ⎥\n",
       "⎣    r ⋅sin (X¹)⎦"
      ]
     },
     "execution_count": 8,
     "metadata": {},
     "output_type": "execute_result"
    }
   ],
   "source": [
    "g_inv"
   ]
  },
  {
   "cell_type": "markdown",
   "id": "e4991bee",
   "metadata": {},
   "source": [
    "## Christoffel Symbols\n",
    "\n",
    "Although Christoffel symbols bear some resemblance to tensors, they are not tensors. Nonetheless, it is still useful to have a calculator for them. Before introducing the equation for calculating Christoffel symbols, we need to define the notation for differentiation. We will use $\\partial_k \\equiv \\frac{\\partial}{\\partial X^k}$ to denote differentiation with respect to the coordinate $X^k$. With this notation, we can write the formula for Christoffel symbols as:\n",
    "\n",
    "\\begin{equation*}\n",
    "\\Gamma_{\\alpha \\beta}^{\\gamma} = \\frac{1}{2} g^{\\gamma s} \\left( \\partial_{\\beta} g_{s \\alpha} + \\partial_{\\alpha} g_{s \\beta} - \\partial_{s} g_{\\alpha \\beta} \\right) \n",
    "\\end{equation*}"
   ]
  },
  {
   "cell_type": "code",
   "execution_count": 9,
   "id": "83254b40",
   "metadata": {},
   "outputs": [],
   "source": [
    "## Convert coordinates from tuple to list ##\n",
    "X_array = []\n",
    "for i in range(dim):\n",
    "    X_array.append(X[i])\n",
    "    \n",
    "## Define a fucntion that caluclates Christoffel symbols ##\n",
    "def Christoffel(gamma, alpha, beta):\n",
    "    '''\n",
    "    This function calcualtes symbolicallly equation for a specific Christoffel symbol.\n",
    "    Inputs:\n",
    "        gamma - value of the index (between 1 and dim) [integer]\n",
    "        alpha - value of the index (between 1 and dim) [integer]\n",
    "        beta  - value of the index (between 1 and dim) [integer]\n",
    "    Outputs:\n",
    "        Christoffel - SymPy equation for a specific Christoffel symbol\n",
    "    Assumptions:\n",
    "        - SymPy library was called\n",
    "        - Individual partof of SymPy were called: diff\n",
    "    '''\n",
    "    Christoffel = 0\n",
    "    for s in range(dim):\n",
    "        Christoffel += 0.5 * g_inv[gamma,s] * (diff(g[beta,s], X_array[alpha]) + diff(g[alpha,s], X_array[beta]) - diff(g[alpha,beta], X_array[s]))\n",
    "    return Christoffel"
   ]
  },
  {
   "cell_type": "code",
   "execution_count": 10,
   "id": "b2bacdcb",
   "metadata": {},
   "outputs": [],
   "source": [
    "def print_Christoffel(simple = True):\n",
    "    '''\n",
    "    This functions prints Christoffel symbols.\n",
    "    Inputs:\n",
    "        simple - this input is Boolean and can simplify the output to as compact form as possible\n",
    "    Outputs:\n",
    "        NONE\n",
    "    Assumptions:\n",
    "        - SymPy library was called\n",
    "        - Individual partof of SymPy were called: simplify, nsimplify\n",
    "        - IPython.display was called\n",
    "        - Christoffel function exists\n",
    "    '''\n",
    "    ## Front part of the LaTeX align string ##\n",
    "    string = ''\n",
    "    frontstring = '\\\\begin{align*} \\n'\n",
    "    string += frontstring\n",
    "    \n",
    "    ## Equations for the symbols ##\n",
    "    for gamma in range(dim):\n",
    "        for alpha in range(dim):\n",
    "            for beta in range(dim):\n",
    "                alphabeta = str(int(str(alpha+1) + str(beta+1)))\n",
    "                if simple == True:\n",
    "                    string += fr'\\Gamma^{gamma+1}' + r'_{' + f'{alphabeta}' + r'} =& \\:' + sp.latex(simplify(nsimplify(Christoffel(gamma, alpha, beta)))) + '\\\\\\\\ \\n'\n",
    "                else:\n",
    "                    string += fr'\\Gamma^{gamma+1}' + r'_{' + f'{alphabeta}' + r'} =& \\:' + sp.latex(nsimplify(Christoffel(gamma, alpha, beta))) + '\\\\\\\\ \\n'\n",
    "    \n",
    "    ## Back part of the LaTeX align string ##\n",
    "    backstring = '\\\\end{align*}'\n",
    "    string += backstring\n",
    "    \n",
    "    ## Display equations as LaTeX in markdown ##\n",
    "    display(Markdown(string))\n",
    "    return"
   ]
  },
  {
   "cell_type": "code",
   "execution_count": 11,
   "id": "dfe89201",
   "metadata": {},
   "outputs": [
    {
     "data": {
      "text/markdown": [
       "\\begin{align*} \n",
       "\\Gamma^1_{11} =& \\:0\\\\ \n",
       "\\Gamma^1_{12} =& \\:0\\\\ \n",
       "\\Gamma^1_{21} =& \\:0\\\\ \n",
       "\\Gamma^1_{22} =& \\:- \\frac{\\sin{\\left(2 X^{1} \\right)}}{2}\\\\ \n",
       "\\Gamma^2_{11} =& \\:0\\\\ \n",
       "\\Gamma^2_{12} =& \\:\\frac{1}{\\tan{\\left(X^{1} \\right)}}\\\\ \n",
       "\\Gamma^2_{21} =& \\:\\frac{1}{\\tan{\\left(X^{1} \\right)}}\\\\ \n",
       "\\Gamma^2_{22} =& \\:0\\\\ \n",
       "\\end{align*}"
      ],
      "text/plain": [
       "<IPython.core.display.Markdown object>"
      ]
     },
     "metadata": {},
     "output_type": "display_data"
    }
   ],
   "source": [
    "print_Christoffel()"
   ]
  },
  {
   "cell_type": "markdown",
   "id": "b951c73e",
   "metadata": {},
   "source": [
    "## Riemann Tensor\n",
    "\n",
    "We now come to the most useful part of this notebook, which is the calculation of Riemann (curvature) tensor components. While there are ways to find non-zero components for diagonal metric tensors, it is also important to have equations for the non-trivial components to check your work. For a 4-dimensional metric, there are 256 components of the Riemann tensor. This calculator can calculate all of them. We only test it on the 2D metric of the 2-sphere, but I encourage you to define metric tensors with higher dimensions and see the values you get. The Riemann tensor can be expressed by the equation below (note that we use the notation $\\partial_k$ as before).\n",
    "\n",
    "\\begin{equation*}\n",
    "R_{\\beta \\mu \\nu}^{\\alpha} = \\partial_{\\mu} \\Gamma_{\\beta \\nu}^{\\alpha} - \\partial_{\\nu} \\Gamma_{\\beta \\mu}^{\\alpha} + \\Gamma_{\\beta \\nu}^{s} \\Gamma_{s \\mu}^{\\alpha} - \\Gamma_{\\beta \\mu}^{s} \\Gamma_{s \\nu}^{\\alpha}\n",
    "\\end{equation*}\n",
    "\n",
    "Once again, we use $s$ as a summation index in Einstein notation. It should be noted that we use the Riemann curvature tensor of the second kind. It is also possible to use the Riemann tensor of the first kind, which would be denoted as $R_{\\alpha \\beta \\mu \\nu}$. To calculate it, we would need to apply the metric tensor, such as $g_{\\alpha s} R_{\\beta \\mu \\nu}^{s} = R_{\\alpha \\beta \\mu \\nu}$. Adding this feature to the notebook would be a potential improvement, and if there is enough demand for it, I will create a calculator for the Christoffel symbols of the first kind as well. Additionally, we could also calculate the dual Riemann curvature tensor, but for now, we will not consider it."
   ]
  },
  {
   "cell_type": "code",
   "execution_count": 12,
   "id": "4bd29ac6",
   "metadata": {},
   "outputs": [],
   "source": [
    "def Riemann(alpha, beta, mu, nu):\n",
    "    '''\n",
    "    This function calculates symbolically equation for components of Riemann curvature tensor.\n",
    "    Inputs:\n",
    "        alpha - value of the index (between 1 and dim) [integer]\n",
    "        beta  - value of the index (between 1 and dim) [integer]\n",
    "        mu    - value of the index (between 1 and dim) [integer]\n",
    "        nu    - value of the index (between 1 and dim) [integer]\n",
    "    Outputs:\n",
    "        Riemann - SymPy equation for a specific component of Riemann curvature tensor\n",
    "    Assumptions:\n",
    "        - SymPy library was called\n",
    "        - Individual partof of SymPy were called: diff\n",
    "        - Christoffel function is defined\n",
    "    '''\n",
    "    Riemann = 0\n",
    "    Riemann = diff(Christoffel(alpha, nu, beta), X_array[mu]) - diff(Christoffel(alpha, mu, beta), X_array[nu])\n",
    "    for s in range(dim):\n",
    "         Riemann += Christoffel(s,nu,beta) * Christoffel(alpha,mu,s) - Christoffel(s,mu,beta) * Christoffel(alpha,nu,s)\n",
    "    return Riemann"
   ]
  },
  {
   "cell_type": "code",
   "execution_count": 13,
   "id": "2f79ba76",
   "metadata": {},
   "outputs": [],
   "source": [
    "def print_Riemann(simple = True):\n",
    "    '''\n",
    "    This functions prints all components of Riemann tensor.\n",
    "    Inputs:\n",
    "        simple - this input is Boolean and can simplify the output to as compact form as possible\n",
    "    Outputs:\n",
    "        NONE\n",
    "    Assumptions:\n",
    "        - SymPy library was called\n",
    "        - Individual partof of SymPy were called: simplify, nsimplify\n",
    "        - IPython.display was called\n",
    "        - Riemann function exists\n",
    "    '''\n",
    "    ## Front part of the LaTeX align string ##\n",
    "    string = ''\n",
    "    frontstring = '\\\\begin{align*} \\n'\n",
    "    string += frontstring\n",
    "    \n",
    "    ## Equations for the components ##\n",
    "    for alpha in range(dim):\n",
    "        for beta in range(dim):\n",
    "            for mu in range(dim):\n",
    "                for nu in range(dim):\n",
    "                    subscript   = str(int(str(beta+1) + str(mu+1) + str(nu+1)))\n",
    "                    superscript = alpha + 1\n",
    "                    if simple == True:\n",
    "                        string += fr'R^{superscript}' + r'_{' + f'{subscript}' + r'} =& \\:' + sp.latex(simplify(nsimplify(Riemann(alpha, beta, mu, nu)))) + '\\\\\\\\ \\n'\n",
    "                    else:\n",
    "                        string += fr'R^{superscript}' + r'_{' + f'{subscript}' + r'} =& \\:' + sp.latex(nsimplify(Riemann(alpha, beta, mu, nu))) + '\\\\\\\\ \\n'\n",
    "    \n",
    "    ## Back part of the LaTeX align string ##\n",
    "    backstring = '\\\\end{align*}'\n",
    "    string += backstring\n",
    "    \n",
    "    ## Display equations as LaTeX in markdown ##\n",
    "    display(Markdown(string))\n",
    "    return"
   ]
  },
  {
   "cell_type": "code",
   "execution_count": 14,
   "id": "422c5449",
   "metadata": {
    "scrolled": false
   },
   "outputs": [
    {
     "data": {
      "text/markdown": [
       "\\begin{align*} \n",
       "R^1_{111} =& \\:0\\\\ \n",
       "R^1_{112} =& \\:0\\\\ \n",
       "R^1_{121} =& \\:0\\\\ \n",
       "R^1_{122} =& \\:0\\\\ \n",
       "R^1_{211} =& \\:0\\\\ \n",
       "R^1_{212} =& \\:\\sin^{2}{\\left(X^{1} \\right)}\\\\ \n",
       "R^1_{221} =& \\:- \\sin^{2}{\\left(X^{1} \\right)}\\\\ \n",
       "R^1_{222} =& \\:0\\\\ \n",
       "R^2_{111} =& \\:0\\\\ \n",
       "R^2_{112} =& \\:-1\\\\ \n",
       "R^2_{121} =& \\:1\\\\ \n",
       "R^2_{122} =& \\:0\\\\ \n",
       "R^2_{211} =& \\:0\\\\ \n",
       "R^2_{212} =& \\:0\\\\ \n",
       "R^2_{221} =& \\:0\\\\ \n",
       "R^2_{222} =& \\:0\\\\ \n",
       "\\end{align*}"
      ],
      "text/plain": [
       "<IPython.core.display.Markdown object>"
      ]
     },
     "metadata": {},
     "output_type": "display_data"
    }
   ],
   "source": [
    "print_Riemann()"
   ]
  },
  {
   "cell_type": "markdown",
   "id": "d960093a",
   "metadata": {},
   "source": [
    "## Ricci Tensor\n",
    "\n",
    "Once we have Riemann curvature tensor components, it is possible to find Ricci tensor components. This is useful, because Ricci tensor directly operates in Einstein tensor. Ricci tensor has same shape as metric tensor (has same number of components). To find all components, we can use equation\n",
    "\n",
    "\\begin{equation*}\n",
    "R_{\\mu \\nu} = R_{\\mu s \\nu}^{s}\n",
    "\\end{equation*}\n",
    "\n",
    "where $s$ is a summation index. "
   ]
  },
  {
   "cell_type": "code",
   "execution_count": 15,
   "id": "2b475a81",
   "metadata": {},
   "outputs": [],
   "source": [
    "def Ricci(mu, nu):\n",
    "    '''\n",
    "    This function calculates symbolically equation for components of Ricci tensor.\n",
    "    Inputs:\n",
    "        mu    - value of the index (between 1 and dim) [integer]\n",
    "        nu    - value of the index (between 1 and dim) [integer]\n",
    "    Outputs:\n",
    "        Ricci - SymPy equation for a specific component of Ricci tensor\n",
    "    Assumptions:\n",
    "        - SymPy library was called\n",
    "        - Riemann function is defined\n",
    "    '''\n",
    "    Ricci = 0\n",
    "    for s in range(dim):\n",
    "        Ricci += Riemann(s,mu,s,nu)\n",
    "    return Ricci"
   ]
  },
  {
   "cell_type": "code",
   "execution_count": 16,
   "id": "75da5425",
   "metadata": {},
   "outputs": [],
   "source": [
    "def print_Ricci(simple = True):\n",
    "    '''\n",
    "    This functions prints all components of Ricci tensor.\n",
    "    Inputs:\n",
    "        simple - this input is Boolean and can simplify the output to as compact form as possible\n",
    "    Outputs:\n",
    "        NONE\n",
    "    Assumptions:\n",
    "        - SymPy library was called\n",
    "        - Individual partof of SymPy were called: simplify, nsimplify\n",
    "        - IPython.display was called\n",
    "        - Ricci function exists\n",
    "    '''\n",
    "    ## Front part of the LaTeX align string ##\n",
    "    string = ''\n",
    "    frontstring = '\\\\begin{align*} \\n'\n",
    "    string += frontstring\n",
    "    \n",
    "    ## Equations for the components ##\n",
    "    for mu in range(dim):\n",
    "        for nu in range(dim):\n",
    "            subscript   = str(int(str(mu+1) + str(nu+1)))\n",
    "            if simple == True:\n",
    "                string += fr'R' + r'_{' + f'{subscript}' + r'} =& \\:' + sp.latex(simplify(nsimplify(Ricci(mu, nu)))) + '\\\\\\\\ \\n'\n",
    "            else:\n",
    "                string += fr'R' + r'_{' + f'{subscript}' + r'} =& \\:' + sp.latex(nsimplify(Ricci(mu, nu))) + '\\\\\\\\ \\n'\n",
    "    \n",
    "    ## Back part of the LaTeX align string ##\n",
    "    backstring = '\\\\end{align*}'\n",
    "    string += backstring\n",
    "    \n",
    "    ## Display equations as LaTeX in markdown ##\n",
    "    display(Markdown(string))\n",
    "    return"
   ]
  },
  {
   "cell_type": "code",
   "execution_count": 17,
   "id": "75f6a29f",
   "metadata": {},
   "outputs": [
    {
     "data": {
      "text/markdown": [
       "\\begin{align*} \n",
       "R_{11} =& \\:1\\\\ \n",
       "R_{12} =& \\:0\\\\ \n",
       "R_{21} =& \\:0\\\\ \n",
       "R_{22} =& \\:\\sin^{2}{\\left(X^{1} \\right)}\\\\ \n",
       "\\end{align*}"
      ],
      "text/plain": [
       "<IPython.core.display.Markdown object>"
      ]
     },
     "metadata": {},
     "output_type": "display_data"
    }
   ],
   "source": [
    "print_Ricci()"
   ]
  },
  {
   "cell_type": "markdown",
   "id": "c5ae901d",
   "metadata": {},
   "source": [
    "## Ricci Scalar\n",
    "\n",
    "The Ricci scalar provides information about the curvature of the space in its simplest form and can be easily calculated using the Ricci tensor and metric tensor. As we are creating a calculator for everything, we can also create one for the Ricci scalar, which is defined by the equation\n",
    "\n",
    "\\begin{equation*}\n",
    "R = g^{\\mu \\nu} R_{\\mu \\nu}\n",
    "\\end{equation*}\n",
    "\n",
    "where $g^{\\mu \\nu}$ is inverse metric tensor. "
   ]
  },
  {
   "cell_type": "code",
   "execution_count": 18,
   "id": "3e60cbd2",
   "metadata": {},
   "outputs": [],
   "source": [
    "def Ricci_Scalar():\n",
    "    '''\n",
    "    This function calculates Ricci scalar.\n",
    "    Inputs:\n",
    "        NONE\n",
    "    Outputs:\n",
    "        Ricci_Scalar - SymPy equation for the Ricci scalar\n",
    "    Assumptions:\n",
    "        - Ricci function is defined\n",
    "    '''\n",
    "    Ricci_Scalar = 0\n",
    "    for mu in range(dim):\n",
    "        for nu in range(dim):\n",
    "            Ricci_Scalar += g_inv[mu,nu] * Ricci(mu,nu)\n",
    "    return Ricci_Scalar"
   ]
  },
  {
   "cell_type": "code",
   "execution_count": 19,
   "id": "daa75d8a",
   "metadata": {},
   "outputs": [],
   "source": [
    "def print_Ricci_Scalar(simple = True):\n",
    "    '''\n",
    "    This functions prints Ricci scalar.\n",
    "    Inputs:\n",
    "        simple - this input is Boolean and can simplify the output to as compact form as possible\n",
    "    Outputs:\n",
    "        NONE\n",
    "    Assumptions:\n",
    "        - SymPy library was called\n",
    "        - Individual partof of SymPy were called: simplify, nsimplify\n",
    "        - IPython.display was called\n",
    "        - Ricci_Scalar function exists\n",
    "    '''\n",
    "    ## Front part of the LaTeX align string ##\n",
    "    string = ''\n",
    "    frontstring = '\\\\begin{align*} \\n'\n",
    "    string += frontstring\n",
    "    \n",
    "    ## Equation for Ricci Scalar ##\n",
    "    if simple == True:\n",
    "        string += fr'R' + '=& \\:' + sp.latex(simplify(nsimplify(Ricci_Scalar()))) + '\\\\\\\\ \\n'\n",
    "    else:\n",
    "        string += fr'R' + '=& \\:' + sp.latex(nsimplify(Ricci_Scalar())) + '\\\\\\\\ \\n'\n",
    "        \n",
    "    ## Back part of the LaTeX align string ##\n",
    "    backstring = '\\\\end{align*}'\n",
    "    string += backstring\n",
    "    \n",
    "    ## Display equations as LaTeX in markdown ##\n",
    "    display(Markdown(string))\n",
    "    return"
   ]
  },
  {
   "cell_type": "code",
   "execution_count": 20,
   "id": "65b956c3",
   "metadata": {},
   "outputs": [
    {
     "data": {
      "text/markdown": [
       "\\begin{align*} \n",
       "R=& \\:\\frac{2}{r^{2}}\\\\ \n",
       "\\end{align*}"
      ],
      "text/plain": [
       "<IPython.core.display.Markdown object>"
      ]
     },
     "metadata": {},
     "output_type": "display_data"
    }
   ],
   "source": [
    "print_Ricci_Scalar()"
   ]
  },
  {
   "cell_type": "markdown",
   "id": "99ada758",
   "metadata": {},
   "source": [
    "## Einstein Tensor\n",
    "\n",
    "Lastly, with knowledge of metric tensor, Ricci tensor and Ricci scalar, we can calculate Einstein tensor. Let us write down the general equation for Einstein tensor\n",
    "\n",
    "\\begin{equation*}\n",
    "G_{\\mu \\nu} = R_{\\mu \\nu} - \\frac{1}{2} g_{\\mu \\nu} R\n",
    "\\end{equation*}"
   ]
  },
  {
   "cell_type": "code",
   "execution_count": 21,
   "id": "d432fe23",
   "metadata": {},
   "outputs": [],
   "source": [
    "def Einstein(mu,nu):\n",
    "    '''\n",
    "    This function calculates symbolically equation for components of Einstein tensor.\n",
    "    Inputs:\n",
    "        mu    - value of the index (between 1 and dim) [integer]\n",
    "        nu    - value of the index (between 1 and dim) [integer]\n",
    "    Outputs:\n",
    "        Einstein - SymPy equation for a specific component of Einstein tensor\n",
    "    Assumptions:\n",
    "        - Ricci function is defined\n",
    "        - Ricci_Scalar function is defined\n",
    "    '''\n",
    "    Einstein = Ricci(mu,nu) - 0.5 * Ricci_Scalar() * g[mu,nu]\n",
    "    return Einstein"
   ]
  },
  {
   "cell_type": "code",
   "execution_count": 22,
   "id": "b5487abe",
   "metadata": {},
   "outputs": [],
   "source": [
    "def print_Einstein(simple = True):\n",
    "    '''\n",
    "    This functions prints all components of Einstein tensor.\n",
    "    Inputs:\n",
    "        simple - this input is Boolean and can simplify the output to as compact form as possible\n",
    "    Outputs:\n",
    "        NONE\n",
    "    Assumptions:\n",
    "        - SymPy library was called\n",
    "        - Individual partof of SymPy were called: simplify, nsimplify\n",
    "        - IPython.display was called\n",
    "        - Einstein function exists\n",
    "    '''\n",
    "    ## Front part of the LaTeX align string ##\n",
    "    string = ''\n",
    "    frontstring = '\\\\begin{align*} \\n'\n",
    "    string += frontstring\n",
    "    \n",
    "    ## Equations for the components ##\n",
    "    for mu in range(dim):\n",
    "        for nu in range(dim):\n",
    "            subscript   = str(int(str(mu+1) + str(nu+1)))\n",
    "            if simple == True:\n",
    "                string += fr'G' + r'_{' + f'{subscript}' + r'} =& \\:' + sp.latex(simplify(nsimplify(Einstein(mu, nu)))) + '\\\\\\\\ \\n'\n",
    "            else:\n",
    "                string += fr'G' + r'_{' + f'{subscript}' + r'} =& \\:' + sp.latex(nsimplify(Einstein(mu, nu))) + '\\\\\\\\ \\n'\n",
    "    \n",
    "    ## Back part of the LaTeX align string ##\n",
    "    backstring = '\\\\end{align*}'\n",
    "    string += backstring\n",
    "    \n",
    "    ## Display equations as LaTeX in markdown ##\n",
    "    display(Markdown(string))\n",
    "    return"
   ]
  },
  {
   "cell_type": "code",
   "execution_count": 23,
   "id": "35a44f8b",
   "metadata": {},
   "outputs": [
    {
     "data": {
      "text/markdown": [
       "\\begin{align*} \n",
       "G_{11} =& \\:0\\\\ \n",
       "G_{12} =& \\:0\\\\ \n",
       "G_{21} =& \\:0\\\\ \n",
       "G_{22} =& \\:0\\\\ \n",
       "\\end{align*}"
      ],
      "text/plain": [
       "<IPython.core.display.Markdown object>"
      ]
     },
     "metadata": {},
     "output_type": "display_data"
    }
   ],
   "source": [
    "print_Einstein()"
   ]
  },
  {
   "cell_type": "markdown",
   "id": "3696ab66",
   "metadata": {},
   "source": [
    "<div class=\"alert alert-block alert-success\">\n",
    "    \n",
    "In the cell below, you have all necessary tools to colculate tensors and symbosl for an arbitrary metric.\n",
    "    \n",
    "1. Choose number of dimensions `dim`\n",
    "2. Choose symbols (e.g. `r`) or define functions (e.g. A)\n",
    "3. Write down the metric tensor `g` and calcualte the inverse metric `g_inv` (metric tensor must have the same number of dimensions as `dim`\n",
    "4. Let `print_` function print all equations you need"
   ]
  },
  {
   "cell_type": "markdown",
   "id": "2a057435",
   "metadata": {},
   "source": [
    "## <a id = 'Example'></a> Example: 3-Sphere\n",
    "\n",
    "Let us test our calualtors by using the 3-sphere metric that can be discribed using the line element\n",
    "\n",
    "\\begin{equation*}\n",
    "\\text{d}s^2 = r^2 \\text{d}\\left(X^1\\right)^2 + r^2 \\sin^2 \\left( X^1 \\right) \\text{d}\\left(X^2\\right)^2 + r^2 \\sin^2 \\left( X^1 \\right) \\sin^2 \\left( X^2 \\right) \\text{d}\\left(X^3\\right)^2\n",
    "\\end{equation*}\n",
    "\n",
    "[Return to the top](#content)"
   ]
  },
  {
   "cell_type": "code",
   "execution_count": 24,
   "id": "67507230",
   "metadata": {},
   "outputs": [],
   "source": [
    "## Define the dimensionality of the coordinate systems ##\n",
    "dim = 3\n",
    "\n",
    "## SDefine symbols ##\n",
    "X = symbols(' '.join([fr'X^{i+1}' for i in range(dim)]))          # coordinate system\n",
    "r = symbols('r')                                                  # symbols of constants in the metric tensor\n",
    "# A = Function('A')(X[0])                                         # functions inside the metric tensor"
   ]
  },
  {
   "cell_type": "code",
   "execution_count": 25,
   "id": "65b9f101",
   "metadata": {},
   "outputs": [],
   "source": [
    "## Metric & Inverse Metric Tensors ##\n",
    "g = Matrix([[r**2, 0, 0],                                         # metric tensor of the 3-sphere\n",
    "           [0, r**2 * sin(X[0])**2, 0],\n",
    "           [0,0,r**2 * sin(X[0])**2 * sin(X[1])**2]])\n",
    "\n",
    "\n",
    "\n",
    "g_inv = g.inv()                                                     # inverse metric tensor"
   ]
  },
  {
   "cell_type": "code",
   "execution_count": 26,
   "id": "c773055d",
   "metadata": {},
   "outputs": [
    {
     "data": {
      "image/png": "[encoded data removed]",
      "text/latex": [
       "$\\displaystyle \\left[\\begin{matrix}r^{2} & 0 & 0\\\\0 & r^{2} \\sin^{2}{\\left(X^{1} \\right)} & 0\\\\0 & 0 & r^{2} \\sin^{2}{\\left(X^{1} \\right)} \\sin^{2}{\\left(X^{2} \\right)}\\end{matrix}\\right]$"
      ],
      "text/plain": [
       "⎡ 2                                   ⎤\n",
       "⎢r        0                0          ⎥\n",
       "⎢                                     ⎥\n",
       "⎢     2    2                          ⎥\n",
       "⎢0   r ⋅sin (X¹)           0          ⎥\n",
       "⎢                                     ⎥\n",
       "⎢                  2    2        2    ⎥\n",
       "⎣0        0       r ⋅sin (X¹)⋅sin (X²)⎦"
      ]
     },
     "execution_count": 26,
     "metadata": {},
     "output_type": "execute_result"
    }
   ],
   "source": [
    "g"
   ]
  },
  {
   "cell_type": "code",
   "execution_count": 27,
   "id": "d8e1b4bb",
   "metadata": {},
   "outputs": [
    {
     "data": {
      "image/png": "[encoded data removed]",
      "text/latex": [
       "$\\displaystyle \\left[\\begin{matrix}\\frac{1}{r^{2}} & 0 & 0\\\\0 & \\frac{1}{r^{2} \\sin^{2}{\\left(X^{1} \\right)}} & 0\\\\0 & 0 & \\frac{1}{r^{2} \\sin^{2}{\\left(X^{1} \\right)} \\sin^{2}{\\left(X^{2} \\right)}}\\end{matrix}\\right]$"
      ],
      "text/plain": [
       "⎡1                                    ⎤\n",
       "⎢──       0                0          ⎥\n",
       "⎢ 2                                   ⎥\n",
       "⎢r                                    ⎥\n",
       "⎢                                     ⎥\n",
       "⎢         1                           ⎥\n",
       "⎢0   ───────────           0          ⎥\n",
       "⎢     2    2                          ⎥\n",
       "⎢    r ⋅sin (X¹)                      ⎥\n",
       "⎢                                     ⎥\n",
       "⎢                          1          ⎥\n",
       "⎢0        0       ────────────────────⎥\n",
       "⎢                  2    2        2    ⎥\n",
       "⎣                 r ⋅sin (X¹)⋅sin (X²)⎦"
      ]
     },
     "execution_count": 27,
     "metadata": {},
     "output_type": "execute_result"
    }
   ],
   "source": [
    "g_inv"
   ]
  },
  {
   "cell_type": "code",
   "execution_count": 28,
   "id": "5af4b027",
   "metadata": {
    "scrolled": false
   },
   "outputs": [
    {
     "data": {
      "text/markdown": [
       "\\begin{align*} \n",
       "\\Gamma^1_{11} =& \\:0\\\\ \n",
       "\\Gamma^1_{12} =& \\:0\\\\ \n",
       "\\Gamma^1_{13} =& \\:0\\\\ \n",
       "\\Gamma^1_{21} =& \\:0\\\\ \n",
       "\\Gamma^1_{22} =& \\:- \\frac{\\sin{\\left(2 X^{1} \\right)}}{2}\\\\ \n",
       "\\Gamma^1_{23} =& \\:0\\\\ \n",
       "\\Gamma^1_{31} =& \\:0\\\\ \n",
       "\\Gamma^1_{32} =& \\:0\\\\ \n",
       "\\Gamma^1_{33} =& \\:- \\sin{\\left(X^{1} \\right)} \\sin^{2}{\\left(X^{2} \\right)} \\cos{\\left(X^{1} \\right)}\\\\ \n",
       "\\Gamma^2_{11} =& \\:0\\\\ \n",
       "\\Gamma^2_{12} =& \\:\\frac{1}{\\tan{\\left(X^{1} \\right)}}\\\\ \n",
       "\\Gamma^2_{13} =& \\:0\\\\ \n",
       "\\Gamma^2_{21} =& \\:\\frac{1}{\\tan{\\left(X^{1} \\right)}}\\\\ \n",
       "\\Gamma^2_{22} =& \\:0\\\\ \n",
       "\\Gamma^2_{23} =& \\:0\\\\ \n",
       "\\Gamma^2_{31} =& \\:0\\\\ \n",
       "\\Gamma^2_{32} =& \\:0\\\\ \n",
       "\\Gamma^2_{33} =& \\:- \\frac{\\sin{\\left(2 X^{2} \\right)}}{2}\\\\ \n",
       "\\Gamma^3_{11} =& \\:0\\\\ \n",
       "\\Gamma^3_{12} =& \\:0\\\\ \n",
       "\\Gamma^3_{13} =& \\:\\frac{1}{\\tan{\\left(X^{1} \\right)}}\\\\ \n",
       "\\Gamma^3_{21} =& \\:0\\\\ \n",
       "\\Gamma^3_{22} =& \\:0\\\\ \n",
       "\\Gamma^3_{23} =& \\:\\frac{1}{\\tan{\\left(X^{2} \\right)}}\\\\ \n",
       "\\Gamma^3_{31} =& \\:\\frac{1}{\\tan{\\left(X^{1} \\right)}}\\\\ \n",
       "\\Gamma^3_{32} =& \\:\\frac{1}{\\tan{\\left(X^{2} \\right)}}\\\\ \n",
       "\\Gamma^3_{33} =& \\:0\\\\ \n",
       "\\end{align*}"
      ],
      "text/plain": [
       "<IPython.core.display.Markdown object>"
      ]
     },
     "metadata": {},
     "output_type": "display_data"
    }
   ],
   "source": [
    "## Convert coordinates from tuple to list ##\n",
    "X_array = []\n",
    "for i in range(dim):\n",
    "    X_array.append(X[i])\n",
    "\n",
    "print_Christoffel()"
   ]
  },
  {
   "cell_type": "code",
   "execution_count": 29,
   "id": "860801f2",
   "metadata": {},
   "outputs": [
    {
     "data": {
      "text/markdown": [
       "\\begin{align*} \n",
       "R^1_{111} =& \\:0\\\\ \n",
       "R^1_{112} =& \\:0\\\\ \n",
       "R^1_{113} =& \\:0\\\\ \n",
       "R^1_{121} =& \\:0\\\\ \n",
       "R^1_{122} =& \\:0\\\\ \n",
       "R^1_{123} =& \\:0\\\\ \n",
       "R^1_{131} =& \\:0\\\\ \n",
       "R^1_{132} =& \\:0\\\\ \n",
       "R^1_{133} =& \\:0\\\\ \n",
       "R^1_{211} =& \\:0\\\\ \n",
       "R^1_{212} =& \\:\\sin^{2}{\\left(X^{1} \\right)}\\\\ \n",
       "R^1_{213} =& \\:0\\\\ \n",
       "R^1_{221} =& \\:- \\sin^{2}{\\left(X^{1} \\right)}\\\\ \n",
       "R^1_{222} =& \\:0\\\\ \n",
       "R^1_{223} =& \\:0\\\\ \n",
       "R^1_{231} =& \\:0\\\\ \n",
       "R^1_{232} =& \\:0\\\\ \n",
       "R^1_{233} =& \\:0\\\\ \n",
       "R^1_{311} =& \\:0\\\\ \n",
       "R^1_{312} =& \\:0\\\\ \n",
       "R^1_{313} =& \\:\\sin^{2}{\\left(X^{1} \\right)} \\sin^{2}{\\left(X^{2} \\right)}\\\\ \n",
       "R^1_{321} =& \\:0\\\\ \n",
       "R^1_{322} =& \\:0\\\\ \n",
       "R^1_{323} =& \\:0\\\\ \n",
       "R^1_{331} =& \\:- \\sin^{2}{\\left(X^{1} \\right)} \\sin^{2}{\\left(X^{2} \\right)}\\\\ \n",
       "R^1_{332} =& \\:0\\\\ \n",
       "R^1_{333} =& \\:0\\\\ \n",
       "R^2_{111} =& \\:0\\\\ \n",
       "R^2_{112} =& \\:-1\\\\ \n",
       "R^2_{113} =& \\:0\\\\ \n",
       "R^2_{121} =& \\:1\\\\ \n",
       "R^2_{122} =& \\:0\\\\ \n",
       "R^2_{123} =& \\:0\\\\ \n",
       "R^2_{131} =& \\:0\\\\ \n",
       "R^2_{132} =& \\:0\\\\ \n",
       "R^2_{133} =& \\:0\\\\ \n",
       "R^2_{211} =& \\:0\\\\ \n",
       "R^2_{212} =& \\:0\\\\ \n",
       "R^2_{213} =& \\:0\\\\ \n",
       "R^2_{221} =& \\:0\\\\ \n",
       "R^2_{222} =& \\:0\\\\ \n",
       "R^2_{223} =& \\:0\\\\ \n",
       "R^2_{231} =& \\:0\\\\ \n",
       "R^2_{232} =& \\:0\\\\ \n",
       "R^2_{233} =& \\:0\\\\ \n",
       "R^2_{311} =& \\:0\\\\ \n",
       "R^2_{312} =& \\:0\\\\ \n",
       "R^2_{313} =& \\:0\\\\ \n",
       "R^2_{321} =& \\:0\\\\ \n",
       "R^2_{322} =& \\:0\\\\ \n",
       "R^2_{323} =& \\:\\sin^{2}{\\left(X^{1} \\right)} \\sin^{2}{\\left(X^{2} \\right)}\\\\ \n",
       "R^2_{331} =& \\:0\\\\ \n",
       "R^2_{332} =& \\:- \\sin^{2}{\\left(X^{1} \\right)} \\sin^{2}{\\left(X^{2} \\right)}\\\\ \n",
       "R^2_{333} =& \\:0\\\\ \n",
       "R^3_{111} =& \\:0\\\\ \n",
       "R^3_{112} =& \\:0\\\\ \n",
       "R^3_{113} =& \\:-1\\\\ \n",
       "R^3_{121} =& \\:0\\\\ \n",
       "R^3_{122} =& \\:0\\\\ \n",
       "R^3_{123} =& \\:0\\\\ \n",
       "R^3_{131} =& \\:1\\\\ \n",
       "R^3_{132} =& \\:0\\\\ \n",
       "R^3_{133} =& \\:0\\\\ \n",
       "R^3_{211} =& \\:0\\\\ \n",
       "R^3_{212} =& \\:0\\\\ \n",
       "R^3_{213} =& \\:0\\\\ \n",
       "R^3_{221} =& \\:0\\\\ \n",
       "R^3_{222} =& \\:0\\\\ \n",
       "R^3_{223} =& \\:- \\sin^{2}{\\left(X^{1} \\right)}\\\\ \n",
       "R^3_{231} =& \\:0\\\\ \n",
       "R^3_{232} =& \\:\\sin^{2}{\\left(X^{1} \\right)}\\\\ \n",
       "R^3_{233} =& \\:0\\\\ \n",
       "R^3_{311} =& \\:0\\\\ \n",
       "R^3_{312} =& \\:0\\\\ \n",
       "R^3_{313} =& \\:0\\\\ \n",
       "R^3_{321} =& \\:0\\\\ \n",
       "R^3_{322} =& \\:0\\\\ \n",
       "R^3_{323} =& \\:0\\\\ \n",
       "R^3_{331} =& \\:0\\\\ \n",
       "R^3_{332} =& \\:0\\\\ \n",
       "R^3_{333} =& \\:0\\\\ \n",
       "\\end{align*}"
      ],
      "text/plain": [
       "<IPython.core.display.Markdown object>"
      ]
     },
     "metadata": {},
     "output_type": "display_data"
    }
   ],
   "source": [
    "print_Riemann()"
   ]
  },
  {
   "cell_type": "code",
   "execution_count": 30,
   "id": "71a42ea7",
   "metadata": {},
   "outputs": [
    {
     "data": {
      "text/markdown": [
       "\\begin{align*} \n",
       "R_{11} =& \\:2\\\\ \n",
       "R_{12} =& \\:0\\\\ \n",
       "R_{13} =& \\:0\\\\ \n",
       "R_{21} =& \\:0\\\\ \n",
       "R_{22} =& \\:2 \\sin^{2}{\\left(X^{1} \\right)}\\\\ \n",
       "R_{23} =& \\:0\\\\ \n",
       "R_{31} =& \\:0\\\\ \n",
       "R_{32} =& \\:0\\\\ \n",
       "R_{33} =& \\:2 \\sin^{2}{\\left(X^{1} \\right)} \\sin^{2}{\\left(X^{2} \\right)}\\\\ \n",
       "\\end{align*}"
      ],
      "text/plain": [
       "<IPython.core.display.Markdown object>"
      ]
     },
     "metadata": {},
     "output_type": "display_data"
    }
   ],
   "source": [
    "print_Ricci()"
   ]
  },
  {
   "cell_type": "code",
   "execution_count": 31,
   "id": "59d98a46",
   "metadata": {},
   "outputs": [
    {
     "data": {
      "text/markdown": [
       "\\begin{align*} \n",
       "R=& \\:\\frac{6}{r^{2}}\\\\ \n",
       "\\end{align*}"
      ],
      "text/plain": [
       "<IPython.core.display.Markdown object>"
      ]
     },
     "metadata": {},
     "output_type": "display_data"
    }
   ],
   "source": [
    "print_Ricci_Scalar()"
   ]
  },
  {
   "cell_type": "code",
   "execution_count": 32,
   "id": "75c27569",
   "metadata": {},
   "outputs": [
    {
     "data": {
      "text/markdown": [
       "\\begin{align*} \n",
       "G_{11} =& \\:-1\\\\ \n",
       "G_{12} =& \\:0\\\\ \n",
       "G_{13} =& \\:0\\\\ \n",
       "G_{21} =& \\:0\\\\ \n",
       "G_{22} =& \\:- \\sin^{2}{\\left(X^{1} \\right)}\\\\ \n",
       "G_{23} =& \\:0\\\\ \n",
       "G_{31} =& \\:0\\\\ \n",
       "G_{32} =& \\:0\\\\ \n",
       "G_{33} =& \\:- \\sin^{2}{\\left(X^{1} \\right)} \\sin^{2}{\\left(X^{2} \\right)}\\\\ \n",
       "\\end{align*}"
      ],
      "text/plain": [
       "<IPython.core.display.Markdown object>"
      ]
     },
     "metadata": {},
     "output_type": "display_data"
    }
   ],
   "source": [
    "print_Einstein()"
   ]
  },
  {
   "cell_type": "markdown",
   "id": "d8af5a0d",
   "metadata": {},
   "source": [
    "<div class=\"alert alert-block alert-success\">\n",
    "    \n",
    "Example ends here."
   ]
  },
  {
   "cell_type": "markdown",
   "id": "f597ad0f",
   "metadata": {},
   "source": [
    "[Return to the top](#content)\n",
    "\n",
    "## Jacobian Matrix\n",
    "\n",
    "We decided to also create a calculator of Jacobina matrix components as this may be useful for revision as well. Jacobian matrix can calcualte the components of the new coordinate system $Y^i$ as a function of the old coordinate system $X^i$ (e.g. $Y^1 = Y^1 \\left(X^1, X^2, X^3, ..., X^N\\right)$ where $N$ is the number of dimensions of the $X^i$ coodinate system).\n",
    "\n",
    "To find vector in the terms of the new coordinate system, we can use the equation $V_{\\left(Y\\right)}^i = \\frac{\\partial Y^i}{\\partial X^j} V_{\\left(X\\right)}^j$. The factors of partial derivative are components of Jacobian matrix and hence, can be expressed as $J_{j}^{i} \\equiv \\frac{\\partial Y^i}{\\partial X^j}$."
   ]
  },
  {
   "cell_type": "code",
   "execution_count": 33,
   "id": "4f8cd38f",
   "metadata": {},
   "outputs": [],
   "source": [
    "# Define the dimensionality of the coordinate systems\n",
    "dim = 3\n",
    "\n",
    "# Define the coordinate systems\n",
    "X = symbols(' '.join([fr'X^{i+1}' for i in range(dim)]))\n",
    "Y = symbols(' '.join([fr'Y^{i+1}' for i in range(dim)]))\n",
    "\n",
    "# Define the transformation equations\n",
    "# Here, we assume that the transformation equations are given as a list of symbolic expressions\n",
    "transformations = [\n",
    "    X[0] * sin(X[1]) * cos(X[2]),\n",
    "    X[0] * sin(X[1]) * sin(X[2]),\n",
    "    X[0] * cos(X[1])\n",
    "]"
   ]
  },
  {
   "cell_type": "code",
   "execution_count": 34,
   "id": "093a37a0",
   "metadata": {},
   "outputs": [],
   "source": [
    "def Jacobian(i,j):\n",
    "    Jacobian = diff(transformations[j], X[i])\n",
    "    return Jacobian\n"
   ]
  },
  {
   "cell_type": "code",
   "execution_count": 35,
   "id": "a4748c12",
   "metadata": {},
   "outputs": [],
   "source": [
    "def print_Jacobian(simple = True):\n",
    "    ## Front part of the LaTeX align string ##\n",
    "    string = ''\n",
    "    frontstring = '\\\\begin{align*} \\n'\n",
    "    string += frontstring\n",
    "    \n",
    "    ## Equations for the components ##\n",
    "    for i in range(dim):\n",
    "        for j in range(dim):\n",
    "            if simple == True:\n",
    "                string += fr'J_{j+1}^{i+1} =& \\:' + sp.latex(simplify(nsimplify(Jacobian(i, j)))) + '\\\\\\\\ \\n'\n",
    "            else:\n",
    "                string += fr'J_{j+1}^{i+1} =& \\:' + sp.latex(nsimplify(Jacobian(i, j))) + '\\\\\\\\ \\n'\n",
    "                \n",
    "    ## Back part of the LaTeX align string ##\n",
    "    backstring = '\\\\end{align*}'\n",
    "    string += backstring\n",
    "    \n",
    "    ## Display equations as LaTeX in markdown ##\n",
    "    display(Markdown(string))\n",
    "    return"
   ]
  },
  {
   "cell_type": "code",
   "execution_count": 36,
   "id": "816ba4f3",
   "metadata": {},
   "outputs": [
    {
     "data": {
      "text/markdown": [
       "\\begin{align*} \n",
       "J_1^1 =& \\:\\sin{\\left(X^{2} \\right)} \\cos{\\left(X^{3} \\right)}\\\\ \n",
       "J_2^1 =& \\:\\sin{\\left(X^{2} \\right)} \\sin{\\left(X^{3} \\right)}\\\\ \n",
       "J_3^1 =& \\:\\cos{\\left(X^{2} \\right)}\\\\ \n",
       "J_1^2 =& \\:X^{1} \\cos{\\left(X^{2} \\right)} \\cos{\\left(X^{3} \\right)}\\\\ \n",
       "J_2^2 =& \\:X^{1} \\sin{\\left(X^{3} \\right)} \\cos{\\left(X^{2} \\right)}\\\\ \n",
       "J_3^2 =& \\:- X^{1} \\sin{\\left(X^{2} \\right)}\\\\ \n",
       "J_1^3 =& \\:- X^{1} \\sin{\\left(X^{2} \\right)} \\sin{\\left(X^{3} \\right)}\\\\ \n",
       "J_2^3 =& \\:X^{1} \\sin{\\left(X^{2} \\right)} \\cos{\\left(X^{3} \\right)}\\\\ \n",
       "J_3^3 =& \\:0\\\\ \n",
       "\\end{align*}"
      ],
      "text/plain": [
       "<IPython.core.display.Markdown object>"
      ]
     },
     "metadata": {},
     "output_type": "display_data"
    }
   ],
   "source": [
    "print_Jacobian()"
   ]
  },
  {
   "cell_type": "code",
   "execution_count": null,
   "id": "8893d89c",
   "metadata": {},
   "outputs": [],
   "source": []
  }
 ],
 "metadata": {
  "kernelspec": {
   "display_name": "Python 3 (ipykernel)",
   "language": "python",
   "name": "python3"
  },
  "language_info": {
   "codemirror_mode": {
    "name": "ipython",
    "version": 3
   },
   "file_extension": ".py",
   "mimetype": "text/x-python",
   "name": "python",
   "nbconvert_exporter": "python",
   "pygments_lexer": "ipython3",
   "version": "3.9.12"
  }
 },
 "nbformat": 4,
 "nbformat_minor": 5
}
